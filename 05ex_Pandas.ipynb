{
 "cells": [
  {
   "cell_type": "markdown",
   "metadata": {},
   "source": [
    "## Pandas analysis\n",
    "\n",
    "This exercise consists in analyzing a dataset containg timing information from a series of Time-to-Digital-Converters (TDC) implemented in a couple of FPGAs. Each measurement (i.e. each row of the input file) consists of a flag that specifies the type of message ('HEAD', which in this case is always 1), two addresses of the TDC providing the signal ('FPGA' and 'TDC_CHANNEL'), and the timing information ('ORBIT_CNT', 'BX_COUNTER', and 'TDC_MEAS'). Each TDC count corresponds to 25/30 ns, whereas a unit of BX_COUNTER corresponds to 25 ns, and the ORBIT_CNT is increased every 'x' BX_COUNTER. This allows to store the time in a similar way to hours, minutes and seconds."
   ]
  },
  {
   "cell_type": "code",
   "execution_count": null,
   "metadata": {},
   "outputs": [],
   "source": [
    "# If you didn't download it yet, please get the relevant file now!\n",
    "!wget https://www.dropbox.com/s/xvjzaxzz3ysphme/data_000637.txt -P ~/data/"
   ]
  },
  {
   "cell_type": "markdown",
   "metadata": {},
   "source": [
    "1\\. Create a Pandas DataFrame reading N rows of the 'data_000637.txt' dataset. Choose N to be smaller than or equal to the maximum number of rows and larger that 10k.\n",
    "\n",
    "2\\. Find out the number of BX in a ORBIT (the value 'x').\n",
    "\n",
    "3\\. Find out how much the data taking lasted. You can either make an estimate based on the fraction of the measurements (rows) you read, or perform this check precisely by reading out the whole dataset.\n",
    "\n",
    "4\\. Create a new column with the absolute time in ns (as a combination of the other three columns with timing information).\n",
    "\n",
    "5\\. Replace the values (all 1) of the HEAD column randomly with 0 or 1.\n",
    "\n",
    "6\\. Create a new DataFrame that contains only the rows with HEAD=1.\n",
    "\n",
    "7\\. Make two occupancy plots (one for each FPGA), i.e. plot the number of counts per TDC channel\n",
    "\n",
    "8\\. Use the groupby method to find out the noisy channels, i.e. the TDC channels with most counts (say the top 3)\n",
    "\n",
    "9\\. Count the number of unique orbits. Count the number of unique orbits with at least one measurement from TDC_CHANNEL=139"
   ]
  },
  {
   "cell_type": "code",
   "execution_count": 95,
   "metadata": {},
   "outputs": [
    {
     "name": "stdout",
     "output_type": "stream",
     "text": [
      "X is 3564\n",
      "The acquisition, up to row 100000 lasted 88570163.33333333 ns\n",
      "Most noisy channels are \n",
      "              counting\n",
      "TDC_CHANNEL          \n",
      "63               4917\n",
      "64               5027\n",
      "139              8320\n"
     ]
    },
    {
     "data": {
      "image/png": "[encoded data removed]",
      "text/plain": [
       "<Figure size 1008x1008 with 2 Axes>"
      ]
     },
     "metadata": {
      "needs_background": "light"
     },
     "output_type": "display_data"
    }
   ],
   "source": [
    "import pandas as pd\n",
    "import numpy as np\n",
    "import matplotlib.pyplot as plt\n",
    "#bigger plots\n",
    "plt.rcParams['figure.figsize'] = [14, 14]\n",
    "\n",
    "#1)\n",
    "#Nrows=int(input(\"How many rows should I read? \"))\n",
    "Nrows=100000\n",
    "file_name=\"~/data/data_000637.txt\"\n",
    "data=pd.read_csv(file_name,nrows=Nrows)\n",
    "\n",
    "#2)finding x\n",
    "x=data[\"BX_COUNTER\"].max()+1\n",
    "print(\"X is\",x)\n",
    "#the plus one is because, if an hour has 60 minutes, the max minutes I can see is 59, not 60\n",
    "\n",
    "#3)data taking time\n",
    "Bxcounts=(data[\"ORBIT_CNT\"][Nrows-1]-data[\"ORBIT_CNT\"][0])*x+(data[\"BX_COUNTER\"][Nrows-1]-data[\"BX_COUNTER\"][0])\n",
    "time=25*Bxcounts+(data[\"TDC_MEAS\"][Nrows-1]-data[\"TDC_MEAS\"][0])*(25/30)#in ns\n",
    "print(\"The acquisition, up to row\",Nrows,\"lasted\",time,\"ns\")\n",
    "\n",
    "#4)column with time in ns\n",
    "data['timens']=data['TDC_MEAS']*25/30+(data['BX_COUNTER']+data[\"ORBIT_CNT\"]*x)*25\n",
    "#data\n",
    "\n",
    "#5)random head\n",
    "data[\"HEAD\"]=np.random.randint(0,2,size=(Nrows))\n",
    "\n",
    "#6)new dataframe with HEAD=1\n",
    "newdata=data[data[\"HEAD\"]>0]\n",
    "\n",
    "#7)histo of TDC channels\n",
    "plt.subplot(2,1,1)\n",
    "plot1=data[data[\"FPGA\"]==0][\"TDC_CHANNEL\"].hist(bins=range(min(data[\"TDC_CHANNEL\"]), max(data[\"TDC_CHANNEL\"]) + 1, 1))\n",
    "plt.subplot(2,1,2)\n",
    "plot2=data[data[\"FPGA\"]==1][\"TDC_CHANNEL\"].hist(bins=range(min(data[\"TDC_CHANNEL\"]), max(data[\"TDC_CHANNEL\"]) + 1, 1))\n",
    "#MEMO:FARE PLOT SEPARATI!!!!!!!!!!!!!!!!!!!!!!!!!!!!!!!!!!\n",
    "\n",
    "#8)channels with most counts (considering FPGA 0 and 1 together)\n",
    "data['counting'] = np.array([1] * (Nrows))#if HEAD would still be all 1, no need for new column!\n",
    "dc=data.groupby(\"TDC_CHANNEL\").sum()\n",
    "d=dc.sort_values(by=\"counting\")\n",
    "#to see more channels, just change 3 with desired number; all numbers except counting are just he sum of the\n",
    "#other columns and hold no physical value so we will drop them\n",
    "final=d.drop(columns=['HEAD',\"FPGA\",'BX_COUNTER',\"ORBIT_CNT\",\"TDC_MEAS\",\"timens\"])\n",
    "print(\"Most noisy channels are\",'\\n',final.tail(3))\n",
    "\n",
    "#9)orbits counting\n",
    "Allorbits=np.unique(data[\"ORBIT_CNT\"].to_numpy())\n",
    "OrbitsCH139=np.unique(data[data[\"TDC_CHANNEL\"]==139][\"ORBIT_CNT\"].to_numpy())\n",
    "#print(len(Allorbits)\n",
    "#print(len(OrbitsCH139)"
   ]
  },
  {
   "cell_type": "code",
   "execution_count": null,
   "metadata": {},
   "outputs": [],
   "source": []
  }
 ],
 "metadata": {
  "kernelspec": {
   "display_name": "Python 3",
   "language": "python",
   "name": "python3"
  },
  "language_info": {
   "codemirror_mode": {
    "name": "ipython",
    "version": 3
   },
   "file_extension": ".py",
   "mimetype": "text/x-python",
   "name": "python",
   "nbconvert_exporter": "python",
   "pygments_lexer": "ipython3",
   "version": "3.7.6"
  }
 },
 "nbformat": 4,
 "nbformat_minor": 2
}
